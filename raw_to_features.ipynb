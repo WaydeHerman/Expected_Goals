{
 "cells": [
  {
   "cell_type": "code",
   "execution_count": 1,
   "metadata": {},
   "outputs": [],
   "source": [
    "import numpy as np\n",
    "import pandas as pd"
   ]
  },
  {
   "cell_type": "code",
   "execution_count": 2,
   "metadata": {},
   "outputs": [],
   "source": [
    "INPUT_PATH = './Data/csv/'\n",
    "OUTPUT_PATH = './Data/features/'\n",
    "\n",
    "list_of_seasons = ['1213', '1314']\n",
    "list_of_leagues = ['EPL', 'LL']\n",
    "\n",
    "data_list = []\n",
    "for season in list_of_seasons:\n",
    "    for league in list_of_leagues:\n",
    "        tmp_df = pd.read_csv((INPUT_PATH + \"shots_{}{}.csv\".format(league, season)), header=None, names=['league','season',\n",
    "                             'homeTeam','awayTeam','date','team','min','sec','x','y','goalYN',\n",
    "                             'state','headerYN','bigChanceYN','fromCornerYN','fastBreakYN',\n",
    "                             'penaltyYN','directFKYN','ownGoalYN','chanceX1','chanceY1',\n",
    "                             'chanceX2','chanceY2','crossYN','throughballYN','indirectFKYN',\n",
    "                             'secondThroughballYN','dribbleKeeperYN','dribbleBeforeYN','reboundYN',\n",
    "                             'errorYN','onTarget','sixYard','penaltyArea','outBox'])\n",
    "        data_list.append(tmp_df)\n",
    "        \n",
    "raw_df = pd.concat(data_list, axis=0)"
   ]
  },
  {
   "cell_type": "code",
   "execution_count": 3,
   "metadata": {},
   "outputs": [
    {
     "data": {
      "text/html": [
       "<div>\n",
       "<style scoped>\n",
       "    .dataframe tbody tr th:only-of-type {\n",
       "        vertical-align: middle;\n",
       "    }\n",
       "\n",
       "    .dataframe tbody tr th {\n",
       "        vertical-align: top;\n",
       "    }\n",
       "\n",
       "    .dataframe thead th {\n",
       "        text-align: right;\n",
       "    }\n",
       "</style>\n",
       "<table border=\"1\" class=\"dataframe\">\n",
       "  <thead>\n",
       "    <tr style=\"text-align: right;\">\n",
       "      <th></th>\n",
       "      <th>league</th>\n",
       "      <th>season</th>\n",
       "      <th>homeTeam</th>\n",
       "      <th>awayTeam</th>\n",
       "      <th>date</th>\n",
       "      <th>team</th>\n",
       "      <th>min</th>\n",
       "      <th>sec</th>\n",
       "      <th>x</th>\n",
       "      <th>y</th>\n",
       "      <th>...</th>\n",
       "      <th>indirectFKYN</th>\n",
       "      <th>secondThroughballYN</th>\n",
       "      <th>dribbleKeeperYN</th>\n",
       "      <th>dribbleBeforeYN</th>\n",
       "      <th>reboundYN</th>\n",
       "      <th>errorYN</th>\n",
       "      <th>onTarget</th>\n",
       "      <th>sixYard</th>\n",
       "      <th>penaltyArea</th>\n",
       "      <th>outBox</th>\n",
       "    </tr>\n",
       "  </thead>\n",
       "  <tbody>\n",
       "    <tr>\n",
       "      <th>0</th>\n",
       "      <td>Premier League</td>\n",
       "      <td>2012/2013</td>\n",
       "      <td>Arsenal</td>\n",
       "      <td>Wigan</td>\n",
       "      <td>14/05/2013</td>\n",
       "      <td>Arsenal</td>\n",
       "      <td>0</td>\n",
       "      <td>59</td>\n",
       "      <td>86.0</td>\n",
       "      <td>27.3</td>\n",
       "      <td>...</td>\n",
       "      <td>0</td>\n",
       "      <td>0</td>\n",
       "      <td>0</td>\n",
       "      <td>0</td>\n",
       "      <td>0</td>\n",
       "      <td>0</td>\n",
       "      <td>0</td>\n",
       "      <td>0</td>\n",
       "      <td>1</td>\n",
       "      <td>0</td>\n",
       "    </tr>\n",
       "    <tr>\n",
       "      <th>1</th>\n",
       "      <td>Premier League</td>\n",
       "      <td>2012/2013</td>\n",
       "      <td>Arsenal</td>\n",
       "      <td>Wigan</td>\n",
       "      <td>14/05/2013</td>\n",
       "      <td>Arsenal</td>\n",
       "      <td>6</td>\n",
       "      <td>23</td>\n",
       "      <td>88.5</td>\n",
       "      <td>48.0</td>\n",
       "      <td>...</td>\n",
       "      <td>0</td>\n",
       "      <td>0</td>\n",
       "      <td>0</td>\n",
       "      <td>0</td>\n",
       "      <td>0</td>\n",
       "      <td>0</td>\n",
       "      <td>0</td>\n",
       "      <td>0</td>\n",
       "      <td>1</td>\n",
       "      <td>0</td>\n",
       "    </tr>\n",
       "    <tr>\n",
       "      <th>2</th>\n",
       "      <td>Premier League</td>\n",
       "      <td>2012/2013</td>\n",
       "      <td>Arsenal</td>\n",
       "      <td>Wigan</td>\n",
       "      <td>14/05/2013</td>\n",
       "      <td>Arsenal</td>\n",
       "      <td>10</td>\n",
       "      <td>18</td>\n",
       "      <td>95.8</td>\n",
       "      <td>50.0</td>\n",
       "      <td>...</td>\n",
       "      <td>0</td>\n",
       "      <td>0</td>\n",
       "      <td>0</td>\n",
       "      <td>0</td>\n",
       "      <td>0</td>\n",
       "      <td>0</td>\n",
       "      <td>1</td>\n",
       "      <td>1</td>\n",
       "      <td>0</td>\n",
       "      <td>0</td>\n",
       "    </tr>\n",
       "    <tr>\n",
       "      <th>3</th>\n",
       "      <td>Premier League</td>\n",
       "      <td>2012/2013</td>\n",
       "      <td>Arsenal</td>\n",
       "      <td>Wigan</td>\n",
       "      <td>14/05/2013</td>\n",
       "      <td>Arsenal</td>\n",
       "      <td>14</td>\n",
       "      <td>24</td>\n",
       "      <td>73.2</td>\n",
       "      <td>44.3</td>\n",
       "      <td>...</td>\n",
       "      <td>0</td>\n",
       "      <td>0</td>\n",
       "      <td>0</td>\n",
       "      <td>0</td>\n",
       "      <td>0</td>\n",
       "      <td>0</td>\n",
       "      <td>0</td>\n",
       "      <td>0</td>\n",
       "      <td>0</td>\n",
       "      <td>1</td>\n",
       "    </tr>\n",
       "    <tr>\n",
       "      <th>4</th>\n",
       "      <td>Premier League</td>\n",
       "      <td>2012/2013</td>\n",
       "      <td>Arsenal</td>\n",
       "      <td>Wigan</td>\n",
       "      <td>14/05/2013</td>\n",
       "      <td>Arsenal</td>\n",
       "      <td>17</td>\n",
       "      <td>28</td>\n",
       "      <td>74.6</td>\n",
       "      <td>27.4</td>\n",
       "      <td>...</td>\n",
       "      <td>0</td>\n",
       "      <td>0</td>\n",
       "      <td>0</td>\n",
       "      <td>0</td>\n",
       "      <td>0</td>\n",
       "      <td>0</td>\n",
       "      <td>0</td>\n",
       "      <td>0</td>\n",
       "      <td>0</td>\n",
       "      <td>1</td>\n",
       "    </tr>\n",
       "  </tbody>\n",
       "</table>\n",
       "<p>5 rows × 35 columns</p>\n",
       "</div>"
      ],
      "text/plain": [
       "           league     season homeTeam awayTeam        date     team  min  sec  \\\n",
       "0  Premier League  2012/2013  Arsenal    Wigan  14/05/2013  Arsenal    0   59   \n",
       "1  Premier League  2012/2013  Arsenal    Wigan  14/05/2013  Arsenal    6   23   \n",
       "2  Premier League  2012/2013  Arsenal    Wigan  14/05/2013  Arsenal   10   18   \n",
       "3  Premier League  2012/2013  Arsenal    Wigan  14/05/2013  Arsenal   14   24   \n",
       "4  Premier League  2012/2013  Arsenal    Wigan  14/05/2013  Arsenal   17   28   \n",
       "\n",
       "      x     y   ...    indirectFKYN  secondThroughballYN  dribbleKeeperYN  \\\n",
       "0  86.0  27.3   ...               0                    0                0   \n",
       "1  88.5  48.0   ...               0                    0                0   \n",
       "2  95.8  50.0   ...               0                    0                0   \n",
       "3  73.2  44.3   ...               0                    0                0   \n",
       "4  74.6  27.4   ...               0                    0                0   \n",
       "\n",
       "   dribbleBeforeYN  reboundYN  errorYN  onTarget  sixYard  penaltyArea  outBox  \n",
       "0                0          0        0         0        0            1       0  \n",
       "1                0          0        0         0        0            1       0  \n",
       "2                0          0        0         1        1            0       0  \n",
       "3                0          0        0         0        0            0       1  \n",
       "4                0          0        0         0        0            0       1  \n",
       "\n",
       "[5 rows x 35 columns]"
      ]
     },
     "execution_count": 3,
     "metadata": {},
     "output_type": "execute_result"
    }
   ],
   "source": [
    "raw_df.head()"
   ]
  },
  {
   "cell_type": "code",
   "execution_count": 4,
   "metadata": {},
   "outputs": [],
   "source": [
    "# remove columns which won't be used in model:\n",
    "data_df = raw_df.drop(['season', 'homeTeam', 'awayTeam', 'date', 'team', 'min', 'sec', 'chanceX1', 'chanceY1', 'chanceX2', \n",
    "              'chanceY2','onTarget', 'sixYard', 'penaltyArea', 'outBox', 'penaltyYN', 'ownGoalYN'], axis=1)"
   ]
  },
  {
   "cell_type": "markdown",
   "metadata": {},
   "source": [
    "## Pre-Processing/ Feature Engineering:"
   ]
  },
  {
   "cell_type": "code",
   "execution_count": 5,
   "metadata": {},
   "outputs": [],
   "source": [
    "# one-hot encoding for league feature:\n",
    "dummy_league = pd.get_dummies(data_df['league'])\n",
    "data_df.drop(['league'], axis=1, inplace=True)"
   ]
  },
  {
   "cell_type": "code",
   "execution_count": 6,
   "metadata": {},
   "outputs": [],
   "source": [
    "data_df = pd.concat([data_df, dummy_league], axis=1)"
   ]
  },
  {
   "cell_type": "code",
   "execution_count": 7,
   "metadata": {
    "scrolled": true
   },
   "outputs": [
    {
     "data": {
      "text/plain": [
       "<matplotlib.axes._subplots.AxesSubplot at 0x119ca6400>"
      ]
     },
     "execution_count": 7,
     "metadata": {},
     "output_type": "execute_result"
    }
   ],
   "source": [
    "data_df['state'].hist()"
   ]
  },
  {
   "cell_type": "code",
   "execution_count": 93,
   "metadata": {},
   "outputs": [],
   "source": [
    "# clip shot 'state' (whether a team is ahead, equal or behind to the other team)\n",
    "data_df['state'] = data_df['state'].apply(lambda x: 1 if x >= 1 else (-1 if x <= -1 else 0))"
   ]
  },
  {
   "cell_type": "code",
   "execution_count": 94,
   "metadata": {},
   "outputs": [
    {
     "data": {
      "text/plain": [
       "<matplotlib.axes._subplots.AxesSubplot at 0x129054668>"
      ]
     },
     "execution_count": 94,
     "metadata": {},
     "output_type": "execute_result"
    },
    {
     "data": {
      "image/png": "[encoded data removed]",
      "text/plain": [
       "<Figure size 432x288 with 1 Axes>"
      ]
     },
     "metadata": {
      "needs_background": "light"
     },
     "output_type": "display_data"
    }
   ],
   "source": [
    "data_df['x'].hist(bins=100)"
   ]
  },
  {
   "cell_type": "code",
   "execution_count": 8,
   "metadata": {},
   "outputs": [],
   "source": [
    "data_df['x'] = 100 - data_df['x']"
   ]
  },
  {
   "cell_type": "code",
   "execution_count": 9,
   "metadata": {},
   "outputs": [
    {
     "data": {
      "text/plain": [
       "<matplotlib.axes._subplots.AxesSubplot at 0x1177ff860>"
      ]
     },
     "execution_count": 9,
     "metadata": {},
     "output_type": "execute_result"
    },
    {
     "data": {
      "image/png": "[encoded data removed]",
      "text/plain": [
       "<Figure size 432x288 with 1 Axes>"
      ]
     },
     "metadata": {
      "needs_background": "light"
     },
     "output_type": "display_data"
    }
   ],
   "source": [
    "data_df['y'].hist(bins=100)"
   ]
  },
  {
   "cell_type": "code",
   "execution_count": 10,
   "metadata": {},
   "outputs": [],
   "source": [
    "# distance to the centre of the goal posts:\n",
    "data_df['distance'] = np.sqrt(data_df['x']**2 + (50 - data_df['y'])**2)"
   ]
  },
  {
   "cell_type": "code",
   "execution_count": 11,
   "metadata": {},
   "outputs": [
    {
     "data": {
      "text/plain": [
       "count    40286.000000\n",
       "mean        20.786847\n",
       "std          9.822764\n",
       "min          0.781025\n",
       "25%         13.231024\n",
       "50%         20.938481\n",
       "75%         27.201838\n",
       "max        104.822612\n",
       "Name: distance, dtype: float64"
      ]
     },
     "execution_count": 11,
     "metadata": {},
     "output_type": "execute_result"
    }
   ],
   "source": [
    "data_df['distance'].describe()"
   ]
  },
  {
   "cell_type": "code",
   "execution_count": 12,
   "metadata": {},
   "outputs": [],
   "source": [
    "# angle of goals seen:\n",
    "import math\n",
    "\n",
    "for index, row in data_df[['x','y', 'distance']].iterrows():\n",
    "    if row['y'] <= 44.3:\n",
    "        if row['x'] != 0:\n",
    "            b = 44.3 - row['y']\n",
    "            c = 55.7 - row['y']\n",
    "            angle = math.degrees(math.atan(c/row['x']) - math.atan(b/row['x']))\n",
    "        else:\n",
    "            angle = 0\n",
    "    elif row['y'] >= 55.7:\n",
    "        if row['x'] != 0:\n",
    "            b = row['y'] - 55.7\n",
    "            c = row['y'] - 44.3\n",
    "            angle = math.degrees(math.atan(c/row['x']) - math.atan(b/row['x']))\n",
    "        else:\n",
    "            angle = 0\n",
    "    else:\n",
    "        if row['x'] != 0:\n",
    "            d = row['y'] - 44.3\n",
    "            e = 55.7 - row['y']\n",
    "            angle = math.degrees(math.atan(d/row['x']) + math.atan(e/row['x']))\n",
    "        else:\n",
    "            angle = 180\n",
    "    data_df.loc[index, 'angle'] = angle"
   ]
  },
  {
   "cell_type": "code",
   "execution_count": 13,
   "metadata": {},
   "outputs": [
    {
     "data": {
      "text/html": [
       "<div>\n",
       "<style scoped>\n",
       "    .dataframe tbody tr th:only-of-type {\n",
       "        vertical-align: middle;\n",
       "    }\n",
       "\n",
       "    .dataframe tbody tr th {\n",
       "        vertical-align: top;\n",
       "    }\n",
       "\n",
       "    .dataframe thead th {\n",
       "        text-align: right;\n",
       "    }\n",
       "</style>\n",
       "<table border=\"1\" class=\"dataframe\">\n",
       "  <thead>\n",
       "    <tr style=\"text-align: right;\">\n",
       "      <th></th>\n",
       "      <th>x</th>\n",
       "      <th>y</th>\n",
       "      <th>goalYN</th>\n",
       "      <th>state</th>\n",
       "      <th>headerYN</th>\n",
       "      <th>bigChanceYN</th>\n",
       "      <th>fromCornerYN</th>\n",
       "      <th>fastBreakYN</th>\n",
       "      <th>directFKYN</th>\n",
       "      <th>crossYN</th>\n",
       "      <th>...</th>\n",
       "      <th>indirectFKYN</th>\n",
       "      <th>secondThroughballYN</th>\n",
       "      <th>dribbleKeeperYN</th>\n",
       "      <th>dribbleBeforeYN</th>\n",
       "      <th>reboundYN</th>\n",
       "      <th>errorYN</th>\n",
       "      <th>La Liga</th>\n",
       "      <th>Premier League</th>\n",
       "      <th>distance</th>\n",
       "      <th>angle</th>\n",
       "    </tr>\n",
       "  </thead>\n",
       "  <tbody>\n",
       "    <tr>\n",
       "      <th>0</th>\n",
       "      <td>14.0</td>\n",
       "      <td>27.3</td>\n",
       "      <td>0</td>\n",
       "      <td>0</td>\n",
       "      <td>0</td>\n",
       "      <td>0</td>\n",
       "      <td>0</td>\n",
       "      <td>0</td>\n",
       "      <td>0</td>\n",
       "      <td>0</td>\n",
       "      <td>...</td>\n",
       "      <td>0</td>\n",
       "      <td>0</td>\n",
       "      <td>0</td>\n",
       "      <td>0</td>\n",
       "      <td>0</td>\n",
       "      <td>0</td>\n",
       "      <td>0</td>\n",
       "      <td>1</td>\n",
       "      <td>26.670021</td>\n",
       "      <td>20.952716</td>\n",
       "    </tr>\n",
       "    <tr>\n",
       "      <th>1</th>\n",
       "      <td>11.5</td>\n",
       "      <td>48.0</td>\n",
       "      <td>0</td>\n",
       "      <td>0</td>\n",
       "      <td>1</td>\n",
       "      <td>0</td>\n",
       "      <td>0</td>\n",
       "      <td>1</td>\n",
       "      <td>0</td>\n",
       "      <td>1</td>\n",
       "      <td>...</td>\n",
       "      <td>0</td>\n",
       "      <td>0</td>\n",
       "      <td>0</td>\n",
       "      <td>0</td>\n",
       "      <td>0</td>\n",
       "      <td>0</td>\n",
       "      <td>0</td>\n",
       "      <td>1</td>\n",
       "      <td>11.672618</td>\n",
       "      <td>25.026765</td>\n",
       "    </tr>\n",
       "    <tr>\n",
       "      <th>2</th>\n",
       "      <td>4.2</td>\n",
       "      <td>50.0</td>\n",
       "      <td>1</td>\n",
       "      <td>0</td>\n",
       "      <td>1</td>\n",
       "      <td>1</td>\n",
       "      <td>1</td>\n",
       "      <td>0</td>\n",
       "      <td>0</td>\n",
       "      <td>1</td>\n",
       "      <td>...</td>\n",
       "      <td>0</td>\n",
       "      <td>0</td>\n",
       "      <td>0</td>\n",
       "      <td>0</td>\n",
       "      <td>0</td>\n",
       "      <td>0</td>\n",
       "      <td>0</td>\n",
       "      <td>1</td>\n",
       "      <td>4.200000</td>\n",
       "      <td>20.570460</td>\n",
       "    </tr>\n",
       "    <tr>\n",
       "      <th>3</th>\n",
       "      <td>26.8</td>\n",
       "      <td>44.3</td>\n",
       "      <td>0</td>\n",
       "      <td>1</td>\n",
       "      <td>0</td>\n",
       "      <td>0</td>\n",
       "      <td>0</td>\n",
       "      <td>0</td>\n",
       "      <td>0</td>\n",
       "      <td>0</td>\n",
       "      <td>...</td>\n",
       "      <td>0</td>\n",
       "      <td>0</td>\n",
       "      <td>0</td>\n",
       "      <td>0</td>\n",
       "      <td>0</td>\n",
       "      <td>0</td>\n",
       "      <td>0</td>\n",
       "      <td>1</td>\n",
       "      <td>27.399453</td>\n",
       "      <td>33.318506</td>\n",
       "    </tr>\n",
       "    <tr>\n",
       "      <th>4</th>\n",
       "      <td>25.4</td>\n",
       "      <td>27.4</td>\n",
       "      <td>0</td>\n",
       "      <td>1</td>\n",
       "      <td>0</td>\n",
       "      <td>0</td>\n",
       "      <td>0</td>\n",
       "      <td>0</td>\n",
       "      <td>0</td>\n",
       "      <td>0</td>\n",
       "      <td>...</td>\n",
       "      <td>0</td>\n",
       "      <td>0</td>\n",
       "      <td>0</td>\n",
       "      <td>0</td>\n",
       "      <td>0</td>\n",
       "      <td>0</td>\n",
       "      <td>0</td>\n",
       "      <td>1</td>\n",
       "      <td>33.998824</td>\n",
       "      <td>40.383749</td>\n",
       "    </tr>\n",
       "  </tbody>\n",
       "</table>\n",
       "<p>5 rows × 21 columns</p>\n",
       "</div>"
      ],
      "text/plain": [
       "      x     y  goalYN  state  headerYN  bigChanceYN  fromCornerYN  \\\n",
       "0  14.0  27.3       0      0         0            0             0   \n",
       "1  11.5  48.0       0      0         1            0             0   \n",
       "2   4.2  50.0       1      0         1            1             1   \n",
       "3  26.8  44.3       0      1         0            0             0   \n",
       "4  25.4  27.4       0      1         0            0             0   \n",
       "\n",
       "   fastBreakYN  directFKYN  crossYN    ...      indirectFKYN  \\\n",
       "0            0           0        0    ...                 0   \n",
       "1            1           0        1    ...                 0   \n",
       "2            0           0        1    ...                 0   \n",
       "3            0           0        0    ...                 0   \n",
       "4            0           0        0    ...                 0   \n",
       "\n",
       "   secondThroughballYN  dribbleKeeperYN  dribbleBeforeYN  reboundYN  errorYN  \\\n",
       "0                    0                0                0          0        0   \n",
       "1                    0                0                0          0        0   \n",
       "2                    0                0                0          0        0   \n",
       "3                    0                0                0          0        0   \n",
       "4                    0                0                0          0        0   \n",
       "\n",
       "   La Liga  Premier League   distance      angle  \n",
       "0        0               1  26.670021  20.952716  \n",
       "1        0               1  11.672618  25.026765  \n",
       "2        0               1   4.200000  20.570460  \n",
       "3        0               1  27.399453  33.318506  \n",
       "4        0               1  33.998824  40.383749  \n",
       "\n",
       "[5 rows x 21 columns]"
      ]
     },
     "execution_count": 13,
     "metadata": {},
     "output_type": "execute_result"
    }
   ],
   "source": [
    "data_df.head()"
   ]
  },
  {
   "cell_type": "code",
   "execution_count": 14,
   "metadata": {},
   "outputs": [],
   "source": [
    "# split dataframe into subtypes:\n",
    "direct_df = data_df[data_df['directFKYN']==1]\n",
    "head_cross_df = data_df[(data_df['headerYN']==1) & (data_df['crossYN']==1)]\n",
    "cross_df = data_df[(data_df['headerYN']==0) & (data_df['crossYN']==1)]\n",
    "head_df = data_df[(data_df['headerYN']==1) & (data_df['crossYN']==0)]\n",
    "regular_df = data_df[(data_df['headerYN']==0) & (data_df['crossYN']==0) & (data_df['directFKYN']==0)]"
   ]
  },
  {
   "cell_type": "code",
   "execution_count": 15,
   "metadata": {},
   "outputs": [],
   "source": [
    "# save as csv's:\n",
    "direct_df.to_csv(OUTPUT_PATH + 'direct_df.csv')\n",
    "head_cross_df.to_csv(OUTPUT_PATH + 'head_cross_df.csv')\n",
    "cross_df.to_csv(OUTPUT_PATH + 'cross_df.csv')\n",
    "head_df.to_csv(OUTPUT_PATH + 'head_df.csv')\n",
    "regular_df.to_csv(OUTPUT_PATH + 'regular_df.csv')"
   ]
  },
  {
   "cell_type": "code",
   "execution_count": null,
   "metadata": {},
   "outputs": [],
   "source": []
  },
  {
   "cell_type": "code",
   "execution_count": null,
   "metadata": {},
   "outputs": [],
   "source": []
  },
  {
   "cell_type": "code",
   "execution_count": null,
   "metadata": {},
   "outputs": [],
   "source": []
  },
  {
   "cell_type": "code",
   "execution_count": null,
   "metadata": {},
   "outputs": [],
   "source": []
  },
  {
   "cell_type": "code",
   "execution_count": null,
   "metadata": {},
   "outputs": [],
   "source": []
  }
 ],
 "metadata": {
  "kernelspec": {
   "display_name": "Python 3",
   "language": "python",
   "name": "python3"
  },
  "language_info": {
   "codemirror_mode": {
    "name": "ipython",
    "version": 3
   },
   "file_extension": ".py",
   "mimetype": "text/x-python",
   "name": "python",
   "nbconvert_exporter": "python",
   "pygments_lexer": "ipython3",
   "version": "3.7.2"
  }
 },
 "nbformat": 4,
 "nbformat_minor": 2
}
